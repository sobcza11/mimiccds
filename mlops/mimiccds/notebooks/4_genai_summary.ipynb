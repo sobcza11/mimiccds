{
 "cells": [
  {
   "cell_type": "markdown",
   "id": "b1229816",
   "metadata": {},
   "source": [
    "Why: We can simulate ingredient or medication names and prompt a GenAI model (e.g. openai.ChatCompletion) to return summaries. Mock data works fine as long as we structure inputs like real label text"
   ]
  },
  {
   "cell_type": "markdown",
   "id": "9efe3620",
   "metadata": {},
   "source": [
    "**Libraries**"
   ]
  },
  {
   "cell_type": "code",
   "execution_count": 1,
   "id": "1bfb1ab3",
   "metadata": {},
   "outputs": [],
   "source": [
    "import openai\n",
    "import pandas as pd"
   ]
  },
  {
   "cell_type": "markdown",
   "id": "1d2259b0",
   "metadata": {},
   "source": [
    "**Mock Input**"
   ]
  },
  {
   "cell_type": "code",
   "execution_count": 2,
   "id": "0deff362",
   "metadata": {},
   "outputs": [],
   "source": [
    "ingredients = pd.DataFrame({\n",
    "    'name': ['Polysorbate 80', 'Sodium Benzoate', 'Lecithin', 'FD&C Yellow No. 5']\n",
    "})"
   ]
  },
  {
   "cell_type": "code",
   "execution_count": null,
   "id": "eaf0b1af",
   "metadata": {},
   "outputs": [],
   "source": []
  },
  {
   "cell_type": "markdown",
   "id": "caa11ee3",
   "metadata": {},
   "source": [
    "**Format Prompt**"
   ]
  },
  {
   "cell_type": "code",
   "execution_count": 3,
   "id": "3c0d57d7",
   "metadata": {},
   "outputs": [],
   "source": [
    "def summarize_ingredient(ingredient):\n",
    "    return f\"Summarize the health risks and regulatory concerns of the food ingredient: {ingredient}\""
   ]
  },
  {
   "cell_type": "code",
   "execution_count": null,
   "id": "0999e20e",
   "metadata": {},
   "outputs": [],
   "source": []
  },
  {
   "cell_type": "markdown",
   "id": "24fe07cb",
   "metadata": {},
   "source": [
    "**Mock OpenAI call**"
   ]
  },
  {
   "cell_type": "code",
   "execution_count": 4,
   "id": "b5443225",
   "metadata": {},
   "outputs": [],
   "source": [
    "# openai.api_key = \"your-api-key\"\n",
    "# responses = []\n",
    "# for ingredient in ingredients['name']:\n",
    "#     response = openai.ChatCompletion.create(\n",
    "#         model=\"gpt-4\",\n",
    "#         messages=[{\"role\": \"user\", \"content\": summarize_ingredient(ingredient)}]\n",
    "#     )\n",
    "#     responses.append(response['choices'][0]['message']['content'])\n"
   ]
  },
  {
   "cell_type": "code",
   "execution_count": null,
   "id": "c54debb6",
   "metadata": {},
   "outputs": [],
   "source": []
  },
  {
   "cell_type": "markdown",
   "id": "363b3ad1",
   "metadata": {},
   "source": [
    "**Mock Output Placeholder**"
   ]
  },
  {
   "cell_type": "code",
   "execution_count": 5,
   "id": "22e2d6f7",
   "metadata": {},
   "outputs": [],
   "source": [
    "ingredients['summary'] = [\n",
    "    \"Emulsifier; may cause hypersensitivity reactions.\",\n",
    "    \"Preservative; linked to hyperactivity in children.\",\n",
    "    \"Stabilizer; generally safe, rare allergen.\",\n",
    "    \"Artificial dye; possible allergen, warning required in EU.\"\n",
    "]\n"
   ]
  },
  {
   "cell_type": "code",
   "execution_count": null,
   "id": "3822a156",
   "metadata": {},
   "outputs": [],
   "source": []
  },
  {
   "cell_type": "markdown",
   "id": "b23aa6c3",
   "metadata": {},
   "source": [
    "**Display**"
   ]
  },
  {
   "cell_type": "code",
   "execution_count": 6,
   "id": "4544dc80",
   "metadata": {},
   "outputs": [
    {
     "data": {
      "application/vnd.microsoft.datawrangler.viewer.v0+json": {
       "columns": [
        {
         "name": "index",
         "rawType": "int64",
         "type": "integer"
        },
        {
         "name": "name",
         "rawType": "object",
         "type": "string"
        },
        {
         "name": "summary",
         "rawType": "object",
         "type": "string"
        }
       ],
       "ref": "d18cf172-da04-48de-9ddd-1a8d9f1e0b06",
       "rows": [
        [
         "0",
         "Polysorbate 80",
         "Emulsifier; may cause hypersensitivity reactions."
        ],
        [
         "1",
         "Sodium Benzoate",
         "Preservative; linked to hyperactivity in children."
        ],
        [
         "2",
         "Lecithin",
         "Stabilizer; generally safe, rare allergen."
        ],
        [
         "3",
         "FD&C Yellow No. 5",
         "Artificial dye; possible allergen, warning required in EU."
        ]
       ],
       "shape": {
        "columns": 2,
        "rows": 4
       }
      },
      "text/html": [
       "<div>\n",
       "<style scoped>\n",
       "    .dataframe tbody tr th:only-of-type {\n",
       "        vertical-align: middle;\n",
       "    }\n",
       "\n",
       "    .dataframe tbody tr th {\n",
       "        vertical-align: top;\n",
       "    }\n",
       "\n",
       "    .dataframe thead th {\n",
       "        text-align: right;\n",
       "    }\n",
       "</style>\n",
       "<table border=\"1\" class=\"dataframe\">\n",
       "  <thead>\n",
       "    <tr style=\"text-align: right;\">\n",
       "      <th></th>\n",
       "      <th>name</th>\n",
       "      <th>summary</th>\n",
       "    </tr>\n",
       "  </thead>\n",
       "  <tbody>\n",
       "    <tr>\n",
       "      <th>0</th>\n",
       "      <td>Polysorbate 80</td>\n",
       "      <td>Emulsifier; may cause hypersensitivity reactions.</td>\n",
       "    </tr>\n",
       "    <tr>\n",
       "      <th>1</th>\n",
       "      <td>Sodium Benzoate</td>\n",
       "      <td>Preservative; linked to hyperactivity in child...</td>\n",
       "    </tr>\n",
       "    <tr>\n",
       "      <th>2</th>\n",
       "      <td>Lecithin</td>\n",
       "      <td>Stabilizer; generally safe, rare allergen.</td>\n",
       "    </tr>\n",
       "    <tr>\n",
       "      <th>3</th>\n",
       "      <td>FD&amp;C Yellow No. 5</td>\n",
       "      <td>Artificial dye; possible allergen, warning req...</td>\n",
       "    </tr>\n",
       "  </tbody>\n",
       "</table>\n",
       "</div>"
      ],
      "text/plain": [
       "                name                                            summary\n",
       "0     Polysorbate 80  Emulsifier; may cause hypersensitivity reactions.\n",
       "1    Sodium Benzoate  Preservative; linked to hyperactivity in child...\n",
       "2           Lecithin         Stabilizer; generally safe, rare allergen.\n",
       "3  FD&C Yellow No. 5  Artificial dye; possible allergen, warning req..."
      ]
     },
     "metadata": {},
     "output_type": "display_data"
    }
   ],
   "source": [
    "import IPython.display as disp\n",
    "disp.display(ingredients)"
   ]
  },
  {
   "cell_type": "code",
   "execution_count": null,
   "id": "2b38dbc9",
   "metadata": {},
   "outputs": [],
   "source": []
  }
 ],
 "metadata": {
  "kernelspec": {
   "display_name": "Python 3",
   "language": "python",
   "name": "python3"
  },
  "language_info": {
   "codemirror_mode": {
    "name": "ipython",
    "version": 3
   },
   "file_extension": ".py",
   "mimetype": "text/x-python",
   "name": "python",
   "nbconvert_exporter": "python",
   "pygments_lexer": "ipython3",
   "version": "3.13.3"
  }
 },
 "nbformat": 4,
 "nbformat_minor": 5
}
