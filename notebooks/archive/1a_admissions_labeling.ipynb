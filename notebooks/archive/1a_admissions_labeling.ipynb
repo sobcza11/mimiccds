{
 "cells": [
  {
   "cell_type": "code",
   "execution_count": null,
   "id": "dfb4b300",
   "metadata": {},
   "outputs": [],
   "source": []
  },
  {
   "cell_type": "code",
   "execution_count": 1,
   "id": "1e64ff39",
   "metadata": {},
   "outputs": [],
   "source": [
    "import pandas as pd\n",
    "from pathlib import Path\n",
    "import IPython.display as disp\n"
   ]
  },
  {
   "cell_type": "code",
   "execution_count": null,
   "id": "7486916c",
   "metadata": {},
   "outputs": [],
   "source": []
  },
  {
   "cell_type": "code",
   "execution_count": 4,
   "metadata": {},
   "outputs": [],
   "source": [
    "# Define base path to real MIMIC data\n",
    "base_path = Path(\"C:/Users/Rand Sobczak Jr/_rts\") / \"mlops\" / \"mimiccds\" / \"real_mimic\" / \"data\" / \"mimiciv\"\n"
   ]
  },
  {
   "cell_type": "code",
   "execution_count": 5,
   "metadata": {},
   "outputs": [],
   "source": [
    "# Load datasets\n",
    "patients_df = pd.read_csv(base_path / \"_hosp\" / \"patients.csv\")\n",
    "admissions_df = pd.read_csv(base_path / \"_hosp\" / \"admissions.csv\")\n"
   ]
  },
  {
   "cell_type": "code",
   "execution_count": 6,
   "metadata": {},
   "outputs": [
    {
     "data": {
      "application/vnd.microsoft.datawrangler.viewer.v0+json": {
       "columns": [
        {
         "name": "index",
         "rawType": "int64",
         "type": "integer"
        },
        {
         "name": "subject_id",
         "rawType": "int64",
         "type": "integer"
        },
        {
         "name": "gender",
         "rawType": "object",
         "type": "string"
        },
        {
         "name": "anchor_age",
         "rawType": "int64",
         "type": "integer"
        },
        {
         "name": "anchor_year",
         "rawType": "int64",
         "type": "integer"
        },
        {
         "name": "anchor_year_group",
         "rawType": "object",
         "type": "string"
        },
        {
         "name": "dod",
         "rawType": "object",
         "type": "unknown"
        }
       ],
       "ref": "366a23b9-3390-4a18-b0b9-3f7dfe0fc627",
       "rows": [
        [
         "0",
         "10000032",
         "F",
         "52",
         "2180",
         "2014 - 2016",
         "2180-09-09"
        ],
        [
         "1",
         "10000048",
         "F",
         "23",
         "2126",
         "2008 - 2010",
         null
        ]
       ],
       "shape": {
        "columns": 6,
        "rows": 2
       }
      },
      "text/html": [
       "<div>\n",
       "<style scoped>\n",
       "    .dataframe tbody tr th:only-of-type {\n",
       "        vertical-align: middle;\n",
       "    }\n",
       "\n",
       "    .dataframe tbody tr th {\n",
       "        vertical-align: top;\n",
       "    }\n",
       "\n",
       "    .dataframe thead th {\n",
       "        text-align: right;\n",
       "    }\n",
       "</style>\n",
       "<table border=\"1\" class=\"dataframe\">\n",
       "  <thead>\n",
       "    <tr style=\"text-align: right;\">\n",
       "      <th></th>\n",
       "      <th>subject_id</th>\n",
       "      <th>gender</th>\n",
       "      <th>anchor_age</th>\n",
       "      <th>anchor_year</th>\n",
       "      <th>anchor_year_group</th>\n",
       "      <th>dod</th>\n",
       "    </tr>\n",
       "  </thead>\n",
       "  <tbody>\n",
       "    <tr>\n",
       "      <th>0</th>\n",
       "      <td>10000032</td>\n",
       "      <td>F</td>\n",
       "      <td>52</td>\n",
       "      <td>2180</td>\n",
       "      <td>2014 - 2016</td>\n",
       "      <td>2180-09-09</td>\n",
       "    </tr>\n",
       "    <tr>\n",
       "      <th>1</th>\n",
       "      <td>10000048</td>\n",
       "      <td>F</td>\n",
       "      <td>23</td>\n",
       "      <td>2126</td>\n",
       "      <td>2008 - 2010</td>\n",
       "      <td>NaN</td>\n",
       "    </tr>\n",
       "  </tbody>\n",
       "</table>\n",
       "</div>"
      ],
      "text/plain": [
       "   subject_id gender  anchor_age  anchor_year anchor_year_group         dod\n",
       "0    10000032      F          52         2180       2014 - 2016  2180-09-09\n",
       "1    10000048      F          23         2126       2008 - 2010         NaN"
      ]
     },
     "execution_count": 6,
     "metadata": {},
     "output_type": "execute_result"
    }
   ],
   "source": [
    "patients_df.head(2)"
   ]
  },
  {
   "cell_type": "code",
   "execution_count": 7,
   "id": "fd06c79f",
   "metadata": {},
   "outputs": [
    {
     "data": {
      "application/vnd.microsoft.datawrangler.viewer.v0+json": {
       "columns": [
        {
         "name": "index",
         "rawType": "int64",
         "type": "integer"
        },
        {
         "name": "subject_id",
         "rawType": "int64",
         "type": "integer"
        },
        {
         "name": "hadm_id",
         "rawType": "int64",
         "type": "integer"
        },
        {
         "name": "admittime",
         "rawType": "object",
         "type": "string"
        },
        {
         "name": "dischtime",
         "rawType": "object",
         "type": "string"
        },
        {
         "name": "deathtime",
         "rawType": "object",
         "type": "unknown"
        },
        {
         "name": "admission_type",
         "rawType": "object",
         "type": "string"
        },
        {
         "name": "admit_provider_id",
         "rawType": "object",
         "type": "string"
        },
        {
         "name": "admission_location",
         "rawType": "object",
         "type": "string"
        },
        {
         "name": "discharge_location",
         "rawType": "object",
         "type": "string"
        },
        {
         "name": "insurance",
         "rawType": "object",
         "type": "string"
        },
        {
         "name": "language",
         "rawType": "object",
         "type": "string"
        },
        {
         "name": "marital_status",
         "rawType": "object",
         "type": "string"
        },
        {
         "name": "race",
         "rawType": "object",
         "type": "string"
        },
        {
         "name": "edregtime",
         "rawType": "object",
         "type": "string"
        },
        {
         "name": "edouttime",
         "rawType": "object",
         "type": "string"
        },
        {
         "name": "hospital_expire_flag",
         "rawType": "int64",
         "type": "integer"
        }
       ],
       "ref": "b1dae9b9-8ad2-49c3-96f2-74c0c2b0dab2",
       "rows": [
        [
         "0",
         "10000032",
         "22595853",
         "2180-05-06 22:23:00",
         "2180-05-07 17:15:00",
         null,
         "URGENT",
         "P874LG",
         "TRANSFER FROM HOSPITAL",
         "HOME",
         "Other",
         "ENGLISH",
         "WIDOWED",
         "WHITE",
         "2180-05-06 19:17:00",
         "2180-05-06 23:30:00",
         "0"
        ],
        [
         "1",
         "10000032",
         "22841357",
         "2180-06-26 18:27:00",
         "2180-06-27 18:49:00",
         null,
         "EW EMER.",
         "P09Q6Y",
         "EMERGENCY ROOM",
         "HOME",
         "Medicaid",
         "ENGLISH",
         "WIDOWED",
         "WHITE",
         "2180-06-26 15:54:00",
         "2180-06-26 21:31:00",
         "0"
        ]
       ],
       "shape": {
        "columns": 16,
        "rows": 2
       }
      },
      "text/html": [
       "<div>\n",
       "<style scoped>\n",
       "    .dataframe tbody tr th:only-of-type {\n",
       "        vertical-align: middle;\n",
       "    }\n",
       "\n",
       "    .dataframe tbody tr th {\n",
       "        vertical-align: top;\n",
       "    }\n",
       "\n",
       "    .dataframe thead th {\n",
       "        text-align: right;\n",
       "    }\n",
       "</style>\n",
       "<table border=\"1\" class=\"dataframe\">\n",
       "  <thead>\n",
       "    <tr style=\"text-align: right;\">\n",
       "      <th></th>\n",
       "      <th>subject_id</th>\n",
       "      <th>hadm_id</th>\n",
       "      <th>admittime</th>\n",
       "      <th>dischtime</th>\n",
       "      <th>deathtime</th>\n",
       "      <th>admission_type</th>\n",
       "      <th>admit_provider_id</th>\n",
       "      <th>admission_location</th>\n",
       "      <th>discharge_location</th>\n",
       "      <th>insurance</th>\n",
       "      <th>language</th>\n",
       "      <th>marital_status</th>\n",
       "      <th>race</th>\n",
       "      <th>edregtime</th>\n",
       "      <th>edouttime</th>\n",
       "      <th>hospital_expire_flag</th>\n",
       "    </tr>\n",
       "  </thead>\n",
       "  <tbody>\n",
       "    <tr>\n",
       "      <th>0</th>\n",
       "      <td>10000032</td>\n",
       "      <td>22595853</td>\n",
       "      <td>2180-05-06 22:23:00</td>\n",
       "      <td>2180-05-07 17:15:00</td>\n",
       "      <td>NaN</td>\n",
       "      <td>URGENT</td>\n",
       "      <td>P874LG</td>\n",
       "      <td>TRANSFER FROM HOSPITAL</td>\n",
       "      <td>HOME</td>\n",
       "      <td>Other</td>\n",
       "      <td>ENGLISH</td>\n",
       "      <td>WIDOWED</td>\n",
       "      <td>WHITE</td>\n",
       "      <td>2180-05-06 19:17:00</td>\n",
       "      <td>2180-05-06 23:30:00</td>\n",
       "      <td>0</td>\n",
       "    </tr>\n",
       "    <tr>\n",
       "      <th>1</th>\n",
       "      <td>10000032</td>\n",
       "      <td>22841357</td>\n",
       "      <td>2180-06-26 18:27:00</td>\n",
       "      <td>2180-06-27 18:49:00</td>\n",
       "      <td>NaN</td>\n",
       "      <td>EW EMER.</td>\n",
       "      <td>P09Q6Y</td>\n",
       "      <td>EMERGENCY ROOM</td>\n",
       "      <td>HOME</td>\n",
       "      <td>Medicaid</td>\n",
       "      <td>ENGLISH</td>\n",
       "      <td>WIDOWED</td>\n",
       "      <td>WHITE</td>\n",
       "      <td>2180-06-26 15:54:00</td>\n",
       "      <td>2180-06-26 21:31:00</td>\n",
       "      <td>0</td>\n",
       "    </tr>\n",
       "  </tbody>\n",
       "</table>\n",
       "</div>"
      ],
      "text/plain": [
       "   subject_id   hadm_id            admittime            dischtime deathtime  \\\n",
       "0    10000032  22595853  2180-05-06 22:23:00  2180-05-07 17:15:00       NaN   \n",
       "1    10000032  22841357  2180-06-26 18:27:00  2180-06-27 18:49:00       NaN   \n",
       "\n",
       "  admission_type admit_provider_id      admission_location discharge_location  \\\n",
       "0         URGENT            P874LG  TRANSFER FROM HOSPITAL               HOME   \n",
       "1       EW EMER.            P09Q6Y          EMERGENCY ROOM               HOME   \n",
       "\n",
       "  insurance language marital_status   race            edregtime  \\\n",
       "0     Other  ENGLISH        WIDOWED  WHITE  2180-05-06 19:17:00   \n",
       "1  Medicaid  ENGLISH        WIDOWED  WHITE  2180-06-26 15:54:00   \n",
       "\n",
       "             edouttime  hospital_expire_flag  \n",
       "0  2180-05-06 23:30:00                     0  \n",
       "1  2180-06-26 21:31:00                     0  "
      ]
     },
     "execution_count": 7,
     "metadata": {},
     "output_type": "execute_result"
    }
   ],
   "source": [
    "admissions_df.head(2)"
   ]
  },
  {
   "cell_type": "code",
   "execution_count": 10,
   "id": "460c91df",
   "metadata": {},
   "outputs": [
    {
     "data": {
      "text/plain": [
       "(299712, 6)"
      ]
     },
     "execution_count": 10,
     "metadata": {},
     "output_type": "execute_result"
    }
   ],
   "source": [
    "patients_df.shape"
   ]
  },
  {
   "cell_type": "code",
   "execution_count": 9,
   "id": "faf2deae",
   "metadata": {},
   "outputs": [
    {
     "data": {
      "text/plain": [
       "(431231, 16)"
      ]
     },
     "execution_count": 9,
     "metadata": {},
     "output_type": "execute_result"
    }
   ],
   "source": [
    "admissions_df.shape"
   ]
  },
  {
   "cell_type": "code",
   "execution_count": 11,
   "metadata": {},
   "outputs": [],
   "source": [
    "# Merge patient + admission info\n",
    "merged_df = admissions_df.merge(patients_df, on='subject_id', how='left')"
   ]
  },
  {
   "cell_type": "code",
   "execution_count": 12,
   "id": "5ef1ed4c",
   "metadata": {},
   "outputs": [],
   "source": [
    "# Ensure datetime formatting\n",
    "merged_df['dod'] = pd.to_datetime(merged_df['dod'], errors='coerce')\n",
    "merged_df['dischtime'] = pd.to_datetime(merged_df['dischtime'], errors='coerce')"
   ]
  },
  {
   "cell_type": "code",
   "execution_count": 13,
   "id": "7ed5fad7",
   "metadata": {},
   "outputs": [],
   "source": [
    "# Define mortality label: death within 30 days of discharge\n",
    "merged_df['mortality_30d'] = (\n",
    "    (merged_df['dod'].notna()) &\n",
    "    ((merged_df['dod'] - merged_df['dischtime']).dt.days <= 30) &\n",
    "    ((merged_df['dod'] - merged_df['dischtime']).dt.days >= 0)\n",
    ").astype(int)\n"
   ]
  },
  {
   "cell_type": "code",
   "execution_count": 14,
   "metadata": {},
   "outputs": [],
   "source": [
    "# Filter to index admission only (first admission per subject)\n",
    "merged_df.sort_values(by='admittime', inplace=True)\n",
    "merged_df = merged_df.drop_duplicates(subset='subject_id', keep='first')"
   ]
  },
  {
   "cell_type": "code",
   "execution_count": 15,
   "metadata": {},
   "outputs": [
    {
     "data": {
      "application/vnd.microsoft.datawrangler.viewer.v0+json": {
       "columns": [
        {
         "name": "index",
         "rawType": "int64",
         "type": "integer"
        },
        {
         "name": "subject_id",
         "rawType": "int64",
         "type": "integer"
        },
        {
         "name": "hadm_id",
         "rawType": "int64",
         "type": "integer"
        },
        {
         "name": "admittime",
         "rawType": "object",
         "type": "string"
        },
        {
         "name": "dischtime",
         "rawType": "datetime64[ns]",
         "type": "datetime"
        },
        {
         "name": "dod",
         "rawType": "datetime64[ns]",
         "type": "datetime"
        },
        {
         "name": "mortality_30d",
         "rawType": "int64",
         "type": "integer"
        }
       ],
       "ref": "9cbb008b-2ca9-433e-b982-4febedba8d80",
       "rows": [
        [
         "297457",
         "16904137",
         "21081215",
         "2105-10-04 17:26:00",
         "2105-10-12 11:11:00",
         null,
         "0"
        ],
        [
         "179462",
         "14178262",
         "24686846",
         "2106-02-06 20:18:00",
         "2106-02-07 09:31:00",
         null,
         "0"
        ],
        [
         "86235",
         "12024697",
         "20302177",
         "2109-12-14 22:50:00",
         "2110-01-15 14:53:00",
         "2111-05-24 00:00:00",
         "0"
        ],
        [
         "230245",
         "15350437",
         "20383396",
         "2110-01-11 08:02:00",
         "2110-01-12 18:45:00",
         null,
         "0"
        ],
        [
         "349959",
         "18106347",
         "24305596",
         "2110-01-11 10:14:00",
         "2110-01-15 17:31:00",
         null,
         "0"
        ]
       ],
       "shape": {
        "columns": 6,
        "rows": 5
       }
      },
      "text/html": [
       "<div>\n",
       "<style scoped>\n",
       "    .dataframe tbody tr th:only-of-type {\n",
       "        vertical-align: middle;\n",
       "    }\n",
       "\n",
       "    .dataframe tbody tr th {\n",
       "        vertical-align: top;\n",
       "    }\n",
       "\n",
       "    .dataframe thead th {\n",
       "        text-align: right;\n",
       "    }\n",
       "</style>\n",
       "<table border=\"1\" class=\"dataframe\">\n",
       "  <thead>\n",
       "    <tr style=\"text-align: right;\">\n",
       "      <th></th>\n",
       "      <th>subject_id</th>\n",
       "      <th>hadm_id</th>\n",
       "      <th>admittime</th>\n",
       "      <th>dischtime</th>\n",
       "      <th>dod</th>\n",
       "      <th>mortality_30d</th>\n",
       "    </tr>\n",
       "  </thead>\n",
       "  <tbody>\n",
       "    <tr>\n",
       "      <th>297457</th>\n",
       "      <td>16904137</td>\n",
       "      <td>21081215</td>\n",
       "      <td>2105-10-04 17:26:00</td>\n",
       "      <td>2105-10-12 11:11:00</td>\n",
       "      <td>NaT</td>\n",
       "      <td>0</td>\n",
       "    </tr>\n",
       "    <tr>\n",
       "      <th>179462</th>\n",
       "      <td>14178262</td>\n",
       "      <td>24686846</td>\n",
       "      <td>2106-02-06 20:18:00</td>\n",
       "      <td>2106-02-07 09:31:00</td>\n",
       "      <td>NaT</td>\n",
       "      <td>0</td>\n",
       "    </tr>\n",
       "    <tr>\n",
       "      <th>86235</th>\n",
       "      <td>12024697</td>\n",
       "      <td>20302177</td>\n",
       "      <td>2109-12-14 22:50:00</td>\n",
       "      <td>2110-01-15 14:53:00</td>\n",
       "      <td>2111-05-24</td>\n",
       "      <td>0</td>\n",
       "    </tr>\n",
       "    <tr>\n",
       "      <th>230245</th>\n",
       "      <td>15350437</td>\n",
       "      <td>20383396</td>\n",
       "      <td>2110-01-11 08:02:00</td>\n",
       "      <td>2110-01-12 18:45:00</td>\n",
       "      <td>NaT</td>\n",
       "      <td>0</td>\n",
       "    </tr>\n",
       "    <tr>\n",
       "      <th>349959</th>\n",
       "      <td>18106347</td>\n",
       "      <td>24305596</td>\n",
       "      <td>2110-01-11 10:14:00</td>\n",
       "      <td>2110-01-15 17:31:00</td>\n",
       "      <td>NaT</td>\n",
       "      <td>0</td>\n",
       "    </tr>\n",
       "  </tbody>\n",
       "</table>\n",
       "</div>"
      ],
      "text/plain": [
       "        subject_id   hadm_id            admittime           dischtime  \\\n",
       "297457    16904137  21081215  2105-10-04 17:26:00 2105-10-12 11:11:00   \n",
       "179462    14178262  24686846  2106-02-06 20:18:00 2106-02-07 09:31:00   \n",
       "86235     12024697  20302177  2109-12-14 22:50:00 2110-01-15 14:53:00   \n",
       "230245    15350437  20383396  2110-01-11 08:02:00 2110-01-12 18:45:00   \n",
       "349959    18106347  24305596  2110-01-11 10:14:00 2110-01-15 17:31:00   \n",
       "\n",
       "              dod  mortality_30d  \n",
       "297457        NaT              0  \n",
       "179462        NaT              0  \n",
       "86235  2111-05-24              0  \n",
       "230245        NaT              0  \n",
       "349959        NaT              0  "
      ]
     },
     "metadata": {},
     "output_type": "display_data"
    }
   ],
   "source": [
    "# Show final structure\n",
    "disp.display(merged_df[['subject_id', 'hadm_id', 'admittime', 'dischtime', 'dod', 'mortality_30d']].head())\n"
   ]
  },
  {
   "cell_type": "code",
   "execution_count": 17,
   "metadata": {},
   "outputs": [],
   "source": [
    "# Save for downstream use\n",
    "output_dir = Path(r\"C:\\Users\\Rand Sobczak Jr\\_rts\\mlops\\mimiccds\\real_mimic\\output\")\n",
    "output_dir.mkdir(parents=True, exist_ok=True)\n",
    "merged_df.to_csv(output_dir / \"admissions_labeled.csv\", index=False)"
   ]
  },
  {
   "cell_type": "code",
   "execution_count": null,
   "metadata": {},
   "outputs": [],
   "source": []
  }
 ],
 "metadata": {
  "kernelspec": {
   "display_name": "Python 3",
   "language": "python",
   "name": "python3"
  },
  "language_info": {
   "codemirror_mode": {
    "name": "ipython",
    "version": 3
   },
   "file_extension": ".py",
   "mimetype": "text/x-python",
   "name": "python",
   "nbconvert_exporter": "python",
   "pygments_lexer": "ipython3",
   "version": "3.13.3"
  }
 },
 "nbformat": 4,
 "nbformat_minor": 5
}
