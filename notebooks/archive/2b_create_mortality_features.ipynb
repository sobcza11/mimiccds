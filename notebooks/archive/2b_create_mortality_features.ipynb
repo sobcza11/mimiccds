{
 "cells": [
  {
   "cell_type": "code",
   "execution_count": 1,
   "id": "ed7abe2a",
   "metadata": {},
   "outputs": [],
   "source": [
    "import os\n",
    "import pandas as pd\n",
    "from pathlib import Path"
   ]
  },
  {
   "cell_type": "code",
   "execution_count": null,
   "id": "9215b784",
   "metadata": {},
   "outputs": [],
   "source": [
    "os.chdir(r\"C:\\Users\\Rand Sobczak Jr\\_rts\\mlops\\mimiccds\")\n"
   ]
  },
  {
   "cell_type": "code",
   "execution_count": 5,
   "id": "1bc695c9",
   "metadata": {},
   "outputs": [],
   "source": [
    "hosp_dir = Path(r\"C:\\Users\\Rand Sobczak Jr\\_rts\\mlops\\mimiccds/real_mimic/data/mimiciv\")"
   ]
  },
  {
   "cell_type": "code",
   "execution_count": 6,
   "metadata": {},
   "outputs": [],
   "source": [
    "# Load data\n",
    "base_path = Path(\"../../real_mimic/data/mimiciv\")\n",
    "patients = pd.read_csv(hosp_dir / \"_hosp\" / \"patients.csv\")\n",
    "admissions = pd.read_csv(hosp_dir / \"_hosp\" / \"admissions.csv\")\n"
   ]
  },
  {
   "cell_type": "code",
   "execution_count": 7,
   "metadata": {},
   "outputs": [],
   "source": [
    "# Merge and label\n",
    "df = admissions.merge(patients, on=\"subject_id\", how=\"left\")\n",
    "df['dod'] = pd.to_datetime(df['dod'], errors='coerce')\n",
    "df['dischtime'] = pd.to_datetime(df['dischtime'], errors='coerce')\n",
    "df['mortality_30d'] = (\n",
    "    (df['dod'].notna()) &\n",
    "    ((df['dod'] - df['dischtime']).dt.days <= 30) &\n",
    "    ((df['dod'] - df['dischtime']).dt.days >= 0)\n",
    ").astype(int)\n",
    "\n"
   ]
  },
  {
   "cell_type": "code",
   "execution_count": 8,
   "id": "1e0ff84c",
   "metadata": {},
   "outputs": [],
   "source": [
    "# Sort and filter to index admission\n",
    "df = df.sort_values(\"admittime\").drop_duplicates(\"subject_id\", keep=\"first\")"
   ]
  },
  {
   "cell_type": "code",
   "execution_count": 9,
   "id": "cd41c181",
   "metadata": {},
   "outputs": [],
   "source": [
    "# Feature engineering\n",
    "df['gender'] = df['gender'].map({'M': 0, 'F': 1})\n",
    "df = df[['subject_id', 'anchor_age', 'gender', 'mortality_30d']].dropna()\n"
   ]
  },
  {
   "cell_type": "code",
   "execution_count": 12,
   "id": "c309b22e",
   "metadata": {},
   "outputs": [],
   "source": [
    "# Save features and labels\n",
    "output_path = Path(r\"C:\\Users\\Rand Sobczak Jr\\_rts\\mlops\\mimiccds\\real_mimic\\output\")\n",
    "output_path.mkdir(parents=True, exist_ok=True)\n",
    "df.drop(columns=['mortality_30d']).to_csv(output_path / \"X_mortality.csv\", index=False)\n",
    "df[['subject_id', 'mortality_30d']].to_csv(output_path / \"y_mortality.csv\", index=False)\n"
   ]
  },
  {
   "cell_type": "code",
   "execution_count": 13,
   "id": "de413fdc",
   "metadata": {},
   "outputs": [
    {
     "name": "stdout",
     "output_type": "stream",
     "text": [
      "✅ Saved X_mortality.csv and y_mortality.csv to: C:\\Users\\Rand Sobczak Jr\\_rts\\mlops\\mimiccds\\real_mimic\\output\n"
     ]
    }
   ],
   "source": [
    "print(\"✅ Saved X_mortality.csv and y_mortality.csv to:\", output_path)"
   ]
  },
  {
   "cell_type": "code",
   "execution_count": null,
   "id": "d3290f61",
   "metadata": {},
   "outputs": [],
   "source": []
  },
  {
   "cell_type": "code",
   "execution_count": null,
   "metadata": {},
   "outputs": [],
   "source": []
  }
 ],
 "metadata": {
  "kernelspec": {
   "display_name": "Python 3",
   "language": "python",
   "name": "python3"
  },
  "language_info": {
   "codemirror_mode": {
    "name": "ipython",
    "version": 3
   },
   "file_extension": ".py",
   "mimetype": "text/x-python",
   "name": "python",
   "nbconvert_exporter": "python",
   "pygments_lexer": "ipython3",
   "version": "3.13.3"
  }
 },
 "nbformat": 4,
 "nbformat_minor": 5
}
