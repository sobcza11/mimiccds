{
 "cells": [
  {
   "cell_type": "code",
   "execution_count": 2,
   "id": "c14a2a21",
   "metadata": {},
   "outputs": [],
   "source": [
    "# 📘 1_mimic_data_overview.ipynb"
   ]
  },
  {
   "cell_type": "code",
   "execution_count": 3,
   "id": "ad4da3f3",
   "metadata": {},
   "outputs": [],
   "source": [
    "# 🏥 MIMIC-IV Data Overview Notebook\n",
    "# Goal: Load MIMIC-IV cohort, explore demographics, filter target population"
   ]
  },
  {
   "cell_type": "code",
   "execution_count": null,
   "id": "b046c5c4",
   "metadata": {},
   "outputs": [],
   "source": []
  },
  {
   "cell_type": "code",
   "execution_count": 4,
   "id": "e7faaa33",
   "metadata": {},
   "outputs": [],
   "source": [
    "# 🔧 Setup\n",
    "import pandas as pd\n",
    "import matplotlib.pyplot as plt\n",
    "import seaborn as sns\n",
    "from pathlib import Path"
   ]
  },
  {
   "cell_type": "code",
   "execution_count": null,
   "id": "a552d6b0",
   "metadata": {},
   "outputs": [],
   "source": []
  },
  {
   "cell_type": "code",
   "execution_count": null,
   "id": "39657b3f",
   "metadata": {},
   "outputs": [],
   "source": [
    "# 📥 Load Sample MIMIC-IV Tables (assumed local CSV extracts or BigQuery export)\n",
    "data_dir = Path(\"../data\")  # Adjust as needed for your structure\n",
    "patients = pd.read_csv(data_dir / \"patients.csv\")\n",
    "admissions = pd.read_csv(data_dir / \"admissions.csv\")\n",
    "diagnoses = pd.read_csv(data_dir / \"diagnoses_icd.csv\")\n"
   ]
  },
  {
   "cell_type": "code",
   "execution_count": null,
   "id": "cf62a4c6",
   "metadata": {},
   "outputs": [],
   "source": [
    "# 🔍 Initial Inspection\n",
    "print(patients.head())\n",
    "print(admissions.head())\n",
    "print(diagnoses.head())\n"
   ]
  },
  {
   "cell_type": "code",
   "execution_count": null,
   "id": "fdcd436b",
   "metadata": {},
   "outputs": [],
   "source": []
  },
  {
   "cell_type": "code",
   "execution_count": null,
   "id": "58dfa761",
   "metadata": {},
   "outputs": [],
   "source": [
    "# 📊 Demographic Summary\n",
    "patients['anchor_age'].hist(bins=20, color='skyblue')\n",
    "plt.title(\"Age Distribution\")\n",
    "plt.xlabel(\"Anchor Age\")\n",
    "plt.ylabel(\"Count\")\n",
    "plt.show()\n"
   ]
  },
  {
   "cell_type": "code",
   "execution_count": null,
   "id": "974df527",
   "metadata": {},
   "outputs": [],
   "source": [
    "sns.countplot(data=patients, x='gender', palette='Set2')\n",
    "plt.title(\"Gender Distribution\")\n",
    "plt.show()\n"
   ]
  },
  {
   "cell_type": "code",
   "execution_count": null,
   "id": "2d9894ad",
   "metadata": {},
   "outputs": [],
   "source": []
  },
  {
   "cell_type": "code",
   "execution_count": null,
   "id": "c31a16d0",
   "metadata": {},
   "outputs": [],
   "source": [
    "# 🎯 Define Cohort: Adult ICU Patients with Hypertension\n",
    "# Join relevant tables\n",
    "cohort = (patients\n",
    "    .merge(admissions, on=\"subject_id\")\n",
    "    .merge(diagnoses, on=\"hadm_id\")\n",
    ")"
   ]
  },
  {
   "cell_type": "code",
   "execution_count": null,
   "id": "947c0e62",
   "metadata": {},
   "outputs": [],
   "source": [
    "# Filter for adults w/ hypertension ICD codes (e.g., I10)\n",
    "hypertension_cohort = cohort[(cohort['anchor_age'] >= 18) & (cohort['icd_code'].str.startswith(\"I10\"))]\n",
    "\n",
    "print(\"Filtered cohort size:\", len(hypertension_cohort))\n"
   ]
  },
  {
   "cell_type": "code",
   "execution_count": null,
   "id": "90f0092b",
   "metadata": {},
   "outputs": [],
   "source": []
  },
  {
   "cell_type": "code",
   "execution_count": null,
   "id": "fd329832",
   "metadata": {},
   "outputs": [],
   "source": [
    "# 📈 Visualization: Cohort Age & Gender\n",
    "sns.histplot(data=hypertension_cohort, x=\"anchor_age\", bins=20, kde=True)\n",
    "plt.title(\"Age Distribution – Hypertensive Adults\")\n",
    "plt.show()\n"
   ]
  },
  {
   "cell_type": "code",
   "execution_count": null,
   "id": "d4d5b2ab",
   "metadata": {},
   "outputs": [],
   "source": [
    "sns.countplot(data=hypertension_cohort, x=\"gender\")\n",
    "plt.title(\"Gender Breakdown – Hypertensive Adults\")\n",
    "plt.show()\n"
   ]
  },
  {
   "cell_type": "code",
   "execution_count": null,
   "id": "e4959c44",
   "metadata": {},
   "outputs": [],
   "source": []
  },
  {
   "cell_type": "code",
   "execution_count": null,
   "id": "fe781576",
   "metadata": {},
   "outputs": [],
   "source": [
    "# 💾 Save Filtered Sample (for modeling)\n",
    "hypertension_cohort[['subject_id', 'hadm_id', 'anchor_age', 'gender', 'icd_code']].to_csv(data_dir / \"cohort_hypertension.csv\", index=False)\n",
    "\n",
    "print(\"✅ Cohort saved. Ready for modeling.\")\n"
   ]
  },
  {
   "cell_type": "code",
   "execution_count": null,
   "id": "127ee054",
   "metadata": {},
   "outputs": [],
   "source": []
  },
  {
   "cell_type": "code",
   "execution_count": null,
   "id": "69049865",
   "metadata": {},
   "outputs": [],
   "source": []
  }
 ],
 "metadata": {
  "kernelspec": {
   "display_name": "Python 3",
   "language": "python",
   "name": "python3"
  },
  "language_info": {
   "codemirror_mode": {
    "name": "ipython",
    "version": 3
   },
   "file_extension": ".py",
   "mimetype": "text/x-python",
   "name": "python",
   "nbconvert_exporter": "python",
   "pygments_lexer": "ipython3",
   "version": "3.10.10"
  }
 },
 "nbformat": 4,
 "nbformat_minor": 5
}
