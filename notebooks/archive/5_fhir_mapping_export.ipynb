{
 "cells": [
  {
   "cell_type": "markdown",
   "id": "73280097",
   "metadata": {},
   "source": [
    "**Why**: FHIR resources (like Patient, Condition, Observation) are JSON-based and schema-defined. We can mock patient records and map them to FHIR-compliant JSON using pydantic or Python dictionaries."
   ]
  },
  {
   "cell_type": "markdown",
   "id": "fbcfd322",
   "metadata": {},
   "source": [
    "**Libraries**"
   ]
  },
  {
   "cell_type": "code",
   "execution_count": 1,
   "id": "835b0303",
   "metadata": {},
   "outputs": [],
   "source": [
    "import json\n",
    "from datetime import datetime"
   ]
  },
  {
   "cell_type": "markdown",
   "id": "8329a7b0",
   "metadata": {},
   "source": [
    "**Mock Input**"
   ]
  },
  {
   "cell_type": "code",
   "execution_count": 2,
   "id": "e7a83d99",
   "metadata": {},
   "outputs": [],
   "source": [
    "mock_patient = {\n",
    "    \"subject_id\": 1001,\n",
    "    \"gender\": \"male\",\n",
    "    \"birthDate\": \"2035-01-01\",  # Assuming anchor_year = 2100 and anchor_age = 65\n",
    "    \"deathDate\": None\n",
    "}"
   ]
  },
  {
   "cell_type": "code",
   "execution_count": null,
   "id": "20a31cf3",
   "metadata": {},
   "outputs": [],
   "source": []
  },
  {
   "cell_type": "markdown",
   "id": "f8dfe86a",
   "metadata": {},
   "source": [
    "**FHIR Mapping**"
   ]
  },
  {
   "cell_type": "code",
   "execution_count": 4,
   "id": "655dfafc",
   "metadata": {},
   "outputs": [],
   "source": [
    "fhir_patient = {\n",
    "    \"resourceType\": \"Patient\",\n",
    "    \"id\": str(mock_patient[\"subject_id\"]),\n",
    "    \"gender\": mock_patient[\"gender\"],\n",
    "    \"birthDate\": mock_patient[\"birthDate\"],\n",
    "}\n",
    "\n",
    "\n",
    "if mock_patient[\"deathDate\"]:\n",
    "    fhir_patient[\"deceasedDateTime\"] = mock_patient[\"deathDate\"]\n",
    "\n"
   ]
  },
  {
   "cell_type": "markdown",
   "id": "ed0ae8ff",
   "metadata": {},
   "source": [
    "**Save as JSON**"
   ]
  },
  {
   "cell_type": "code",
   "execution_count": 6,
   "id": "547c2605",
   "metadata": {},
   "outputs": [],
   "source": [
    "# with open(\"output/fhir_patient_1001.json\", \"w\") as f:\n",
    "#     json.dump(fhir_patient, f, indent=2)"
   ]
  },
  {
   "cell_type": "code",
   "execution_count": null,
   "id": "62b70b58",
   "metadata": {},
   "outputs": [],
   "source": []
  },
  {
   "cell_type": "markdown",
   "id": "47ff15c8",
   "metadata": {},
   "source": [
    "**Display**"
   ]
  },
  {
   "cell_type": "code",
   "execution_count": 7,
   "id": "04dce03f",
   "metadata": {},
   "outputs": [],
   "source": [
    "# import IPython.display as disp\n",
    "# disp.display(fhir_patient)"
   ]
  },
  {
   "cell_type": "code",
   "execution_count": null,
   "id": "78e5fac8",
   "metadata": {},
   "outputs": [],
   "source": []
  }
 ],
 "metadata": {
  "kernelspec": {
   "display_name": "Python 3",
   "language": "python",
   "name": "python3"
  },
  "language_info": {
   "codemirror_mode": {
    "name": "ipython",
    "version": 3
   },
   "file_extension": ".py",
   "mimetype": "text/x-python",
   "name": "python",
   "nbconvert_exporter": "python",
   "pygments_lexer": "ipython3",
   "version": "3.13.3"
  }
 },
 "nbformat": 4,
 "nbformat_minor": 5
}
