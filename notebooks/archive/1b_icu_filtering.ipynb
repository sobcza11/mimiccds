{
 "cells": [
  {
   "cell_type": "code",
   "execution_count": null,
   "id": "3c899738",
   "metadata": {},
   "outputs": [],
   "source": []
  },
  {
   "cell_type": "code",
   "execution_count": 75,
   "metadata": {},
   "outputs": [],
   "source": [
    "import pandas as pd\n",
    "import matplotlib.pyplot as plt\n",
    "import seaborn as sns\n",
    "from pathlib import Path\n",
    "\n"
   ]
  },
  {
   "cell_type": "code",
   "execution_count": 76,
   "metadata": {},
   "outputs": [],
   "source": [
    "# Load filtered ICU data with mortality label\n",
    "icu_path = Path(\"_rts/mlops/mimiccds/real_mimic/output/icu_labeled.csv\")\n",
    "icu_df = pd.read_csv(icu_path, parse_dates=[\"intime\", \"outtime\"])\n"
   ]
  },
  {
   "cell_type": "code",
   "execution_count": 78,
   "id": "866a644a",
   "metadata": {},
   "outputs": [
    {
     "data": {
      "application/vnd.microsoft.datawrangler.viewer.v0+json": {
       "columns": [
        {
         "name": "index",
         "rawType": "int64",
         "type": "integer"
        },
        {
         "name": "subject_id",
         "rawType": "int64",
         "type": "integer"
        },
        {
         "name": "hadm_id",
         "rawType": "int64",
         "type": "integer"
        },
        {
         "name": "stay_id",
         "rawType": "int64",
         "type": "integer"
        },
        {
         "name": "first_careunit",
         "rawType": "object",
         "type": "string"
        },
        {
         "name": "last_careunit",
         "rawType": "object",
         "type": "string"
        },
        {
         "name": "intime",
         "rawType": "datetime64[ns]",
         "type": "datetime"
        },
        {
         "name": "outtime",
         "rawType": "datetime64[ns]",
         "type": "datetime"
        },
        {
         "name": "los",
         "rawType": "float64",
         "type": "float"
        },
        {
         "name": "icu_los_hours",
         "rawType": "float64",
         "type": "float"
        },
        {
         "name": "admittime",
         "rawType": "object",
         "type": "unknown"
        },
        {
         "name": "dischtime",
         "rawType": "object",
         "type": "unknown"
        },
        {
         "name": "dod",
         "rawType": "object",
         "type": "unknown"
        },
        {
         "name": "mortality_30d",
         "rawType": "float64",
         "type": "float"
        },
        {
         "name": "anchor_age",
         "rawType": "float64",
         "type": "float"
        }
       ],
       "ref": "703f57e3-4fa8-4378-bfbd-62ebb393dd1f",
       "rows": [
        [
         "0",
         "10000032",
         "29079034",
         "39553978",
         "Medical Intensive Care Unit (MICU)",
         "Medical Intensive Care Unit (MICU)",
         "2180-07-23 14:00:00",
         "2180-07-23 23:50:47",
         "0.4102662037037037",
         "9.846388888888889",
         null,
         null,
         null,
         null,
         null
        ],
        [
         "1",
         "10000980",
         "26913865",
         "39765666",
         "Medical Intensive Care Unit (MICU)",
         "Medical Intensive Care Unit (MICU)",
         "2189-06-27 08:42:00",
         "2189-06-27 20:38:27",
         "0.4975347222222222",
         "11.940833333333334",
         null,
         null,
         null,
         null,
         null
        ],
        [
         "2",
         "10001217",
         "24597018",
         "37067082",
         "Surgical Intensive Care Unit (SICU)",
         "Surgical Intensive Care Unit (SICU)",
         "2157-11-20 19:18:02",
         "2157-11-21 22:08:00",
         "1.1180324074074075",
         "26.83277777777778",
         "2157-11-18 22:56:00",
         "2157-11-25 18:00:00",
         null,
         "0.0",
         "55.0"
        ]
       ],
       "shape": {
        "columns": 14,
        "rows": 3
       }
      },
      "text/html": [
       "<div>\n",
       "<style scoped>\n",
       "    .dataframe tbody tr th:only-of-type {\n",
       "        vertical-align: middle;\n",
       "    }\n",
       "\n",
       "    .dataframe tbody tr th {\n",
       "        vertical-align: top;\n",
       "    }\n",
       "\n",
       "    .dataframe thead th {\n",
       "        text-align: right;\n",
       "    }\n",
       "</style>\n",
       "<table border=\"1\" class=\"dataframe\">\n",
       "  <thead>\n",
       "    <tr style=\"text-align: right;\">\n",
       "      <th></th>\n",
       "      <th>subject_id</th>\n",
       "      <th>hadm_id</th>\n",
       "      <th>stay_id</th>\n",
       "      <th>first_careunit</th>\n",
       "      <th>last_careunit</th>\n",
       "      <th>intime</th>\n",
       "      <th>outtime</th>\n",
       "      <th>los</th>\n",
       "      <th>icu_los_hours</th>\n",
       "      <th>admittime</th>\n",
       "      <th>dischtime</th>\n",
       "      <th>dod</th>\n",
       "      <th>mortality_30d</th>\n",
       "      <th>anchor_age</th>\n",
       "    </tr>\n",
       "  </thead>\n",
       "  <tbody>\n",
       "    <tr>\n",
       "      <th>0</th>\n",
       "      <td>10000032</td>\n",
       "      <td>29079034</td>\n",
       "      <td>39553978</td>\n",
       "      <td>Medical Intensive Care Unit (MICU)</td>\n",
       "      <td>Medical Intensive Care Unit (MICU)</td>\n",
       "      <td>2180-07-23 14:00:00</td>\n",
       "      <td>2180-07-23 23:50:47</td>\n",
       "      <td>0.410266</td>\n",
       "      <td>9.846389</td>\n",
       "      <td>NaN</td>\n",
       "      <td>NaN</td>\n",
       "      <td>NaN</td>\n",
       "      <td>NaN</td>\n",
       "      <td>NaN</td>\n",
       "    </tr>\n",
       "    <tr>\n",
       "      <th>1</th>\n",
       "      <td>10000980</td>\n",
       "      <td>26913865</td>\n",
       "      <td>39765666</td>\n",
       "      <td>Medical Intensive Care Unit (MICU)</td>\n",
       "      <td>Medical Intensive Care Unit (MICU)</td>\n",
       "      <td>2189-06-27 08:42:00</td>\n",
       "      <td>2189-06-27 20:38:27</td>\n",
       "      <td>0.497535</td>\n",
       "      <td>11.940833</td>\n",
       "      <td>NaN</td>\n",
       "      <td>NaN</td>\n",
       "      <td>NaN</td>\n",
       "      <td>NaN</td>\n",
       "      <td>NaN</td>\n",
       "    </tr>\n",
       "    <tr>\n",
       "      <th>2</th>\n",
       "      <td>10001217</td>\n",
       "      <td>24597018</td>\n",
       "      <td>37067082</td>\n",
       "      <td>Surgical Intensive Care Unit (SICU)</td>\n",
       "      <td>Surgical Intensive Care Unit (SICU)</td>\n",
       "      <td>2157-11-20 19:18:02</td>\n",
       "      <td>2157-11-21 22:08:00</td>\n",
       "      <td>1.118032</td>\n",
       "      <td>26.832778</td>\n",
       "      <td>2157-11-18 22:56:00</td>\n",
       "      <td>2157-11-25 18:00:00</td>\n",
       "      <td>NaN</td>\n",
       "      <td>0.0</td>\n",
       "      <td>55.0</td>\n",
       "    </tr>\n",
       "  </tbody>\n",
       "</table>\n",
       "</div>"
      ],
      "text/plain": [
       "   subject_id   hadm_id   stay_id                       first_careunit  \\\n",
       "0    10000032  29079034  39553978   Medical Intensive Care Unit (MICU)   \n",
       "1    10000980  26913865  39765666   Medical Intensive Care Unit (MICU)   \n",
       "2    10001217  24597018  37067082  Surgical Intensive Care Unit (SICU)   \n",
       "\n",
       "                         last_careunit              intime  \\\n",
       "0   Medical Intensive Care Unit (MICU) 2180-07-23 14:00:00   \n",
       "1   Medical Intensive Care Unit (MICU) 2189-06-27 08:42:00   \n",
       "2  Surgical Intensive Care Unit (SICU) 2157-11-20 19:18:02   \n",
       "\n",
       "              outtime       los  icu_los_hours            admittime  \\\n",
       "0 2180-07-23 23:50:47  0.410266       9.846389                  NaN   \n",
       "1 2189-06-27 20:38:27  0.497535      11.940833                  NaN   \n",
       "2 2157-11-21 22:08:00  1.118032      26.832778  2157-11-18 22:56:00   \n",
       "\n",
       "             dischtime  dod  mortality_30d  anchor_age  \n",
       "0                  NaN  NaN            NaN         NaN  \n",
       "1                  NaN  NaN            NaN         NaN  \n",
       "2  2157-11-25 18:00:00  NaN            0.0        55.0  "
      ]
     },
     "execution_count": 78,
     "metadata": {},
     "output_type": "execute_result"
    }
   ],
   "source": [
    "icu_df.head(3)"
   ]
  },
  {
   "cell_type": "code",
   "execution_count": 79,
   "metadata": {},
   "outputs": [],
   "source": [
    "# Drop NA for clean plotting\n",
    "icu_df = icu_df.dropna(subset=[\"icu_los_hours\", \"mortality_30d\"])\n"
   ]
  },
  {
   "cell_type": "code",
   "execution_count": 84,
   "metadata": {},
   "outputs": [
    {
     "data": {
      "image/png": "[encoded data removed]",
      "text/plain": [
       "<Figure size 1000x500 with 1 Axes>"
      ]
     },
     "metadata": {},
     "output_type": "display_data"
    }
   ],
   "source": [
    "# Plot 1 – Histogram of ICU Length of Stay\n",
    "plt.figure(figsize=(10, 5))\n",
    "sns.histplot(icu_df[\"icu_los_hours\"], bins=250, kde=False)\n",
    "plt.title(\"ICU Length of Stay Distribution\")\n",
    "plt.xlabel(\"ICU LOS (hours)\")\n",
    "plt.ylabel(\"Count\")\n",
    "plt.grid(True)\n",
    "plt.tight_layout()\n",
    "plt.show()\n"
   ]
  },
  {
   "cell_type": "code",
   "execution_count": 81,
   "metadata": {},
   "outputs": [
    {
     "data": {
      "image/png": "[encoded data removed]",
      "text/plain": [
       "<Figure size 800x600 with 1 Axes>"
      ]
     },
     "metadata": {},
     "output_type": "display_data"
    }
   ],
   "source": [
    "# Plot 2 – ICU LOS by Mortality Label\n",
    "plt.figure(figsize=(8, 6))\n",
    "sns.boxplot(data=icu_df, x=\"mortality_30d\", y=\"icu_los_hours\")\n",
    "plt.title(\"ICU Length of Stay by 30-day Mortality\")\n",
    "plt.xlabel(\"Mortality within 30 days (0=No, 1=Yes)\")\n",
    "plt.ylabel(\"ICU LOS (hours)\")\n",
    "plt.grid(True)\n",
    "plt.tight_layout()\n",
    "plt.show()"
   ]
  },
  {
   "cell_type": "code",
   "execution_count": 85,
   "metadata": {},
   "outputs": [],
   "source": [
    "# Optional: Save cleaned output again\n",
    "icu_df.to_csv(\"_rts/mlops/mimiccds/real_mimic/output/icu_labeled.csv\", index=False)"
   ]
  },
  {
   "cell_type": "code",
   "execution_count": null,
   "id": "1b9fa2e8",
   "metadata": {},
   "outputs": [],
   "source": []
  },
  {
   "cell_type": "code",
   "execution_count": null,
   "metadata": {},
   "outputs": [],
   "source": []
  }
 ],
 "metadata": {
  "kernelspec": {
   "display_name": "Python 3",
   "language": "python",
   "name": "python3"
  },
  "language_info": {
   "codemirror_mode": {
    "name": "ipython",
    "version": 3
   },
   "file_extension": ".py",
   "mimetype": "text/x-python",
   "name": "python",
   "nbconvert_exporter": "python",
   "pygments_lexer": "ipython3",
   "version": "3.13.3"
  }
 },
 "nbformat": 4,
 "nbformat_minor": 5
}
