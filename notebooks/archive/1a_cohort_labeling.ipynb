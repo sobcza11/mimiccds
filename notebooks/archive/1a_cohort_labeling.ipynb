{
 "cells": [
  {
   "cell_type": "code",
   "execution_count": null,
   "id": "deec75ce",
   "metadata": {},
   "outputs": [],
   "source": []
  },
  {
   "cell_type": "code",
   "execution_count": 7,
   "id": "6c68d7e4",
   "metadata": {},
   "outputs": [],
   "source": [
    "import pandas as pd\n",
    "from pathlib import Path"
   ]
  },
  {
   "cell_type": "code",
   "execution_count": 8,
   "id": "7ce2c163",
   "metadata": {},
   "outputs": [
    {
     "name": "stdout",
     "output_type": "stream",
     "text": [
      "C:\\Users\\Rand Sobczak Jr\n"
     ]
    }
   ],
   "source": [
    "cd"
   ]
  },
  {
   "cell_type": "code",
   "execution_count": 11,
   "id": "cdd589ed",
   "metadata": {},
   "outputs": [],
   "source": [
    "# Load paths\n",
    "hosp_dir = Path(r\"C:\\Users\\Rand Sobczak Jr\\_rts\\mlops\\mimiccds\\real_mimic\\data\\mimiciv\\_hosp\")\n",
    "icu_dir = Path(r\"C:\\Users\\Rand Sobczak Jr\\_rts\\mlops\\mimiccds\\real_mimic\\data\\mimiciv\\_icu\")\n"
   ]
  },
  {
   "cell_type": "code",
   "execution_count": 12,
   "id": "bdeeacae",
   "metadata": {},
   "outputs": [],
   "source": [
    "# Load data\n",
    "patients = pd.read_csv(hosp_dir / \"patients.csv\", parse_dates=[\"dod\"])\n",
    "admissions = pd.read_csv(hosp_dir / \"admissions.csv\", parse_dates=[\"admittime\", \"dischtime\"])\n",
    "icustays = pd.read_csv(icu_dir / \"icustays.csv\", parse_dates=[\"intime\", \"outtime\"])\n"
   ]
  },
  {
   "cell_type": "code",
   "execution_count": 13,
   "id": "5194d546",
   "metadata": {},
   "outputs": [],
   "source": [
    "# Merge data\n",
    "df = admissions.merge(patients, on=\"subject_id\", how=\"left\")\n",
    "df = df.merge(icustays, on=[\"subject_id\", \"hadm_id\"], how=\"left\")"
   ]
  },
  {
   "cell_type": "code",
   "execution_count": 14,
   "id": "9455bf3e",
   "metadata": {},
   "outputs": [],
   "source": [
    "# Mortality label: death within 30 days after discharge\n",
    "df['mortality_30d'] = (\n",
    "    df['dod'].notna() &\n",
    "    (df['dod'] - df['dischtime']).dt.days.between(0, 30)\n",
    ").astype(int)"
   ]
  },
  {
   "cell_type": "code",
   "execution_count": 15,
   "metadata": {},
   "outputs": [],
   "source": [
    "# Optional: only first admission per patient\n",
    "df.sort_values(by=\"admittime\", inplace=True)\n",
    "df = df.drop_duplicates(subset=\"subject_id\", keep=\"first\")"
   ]
  },
  {
   "cell_type": "code",
   "execution_count": 16,
   "id": "d1e2ab59",
   "metadata": {},
   "outputs": [],
   "source": [
    "# Save output\n",
    "output_path = Path(r\"C:\\Users\\Rand Sobczak Jr\\_rts\\mlops\\mimiccds\\real_mimic\\output\\1a_labeled_cohort.csv\")\n",
    "output_path.parent.mkdir(parents=True, exist_ok=True)\n",
    "df.to_csv(output_path, index=False)"
   ]
  },
  {
   "cell_type": "code",
   "execution_count": 17,
   "id": "22cbe6c6",
   "metadata": {},
   "outputs": [
    {
     "name": "stdout",
     "output_type": "stream",
     "text": [
      "Labeled cohort shape: (180733, 28)\n"
     ]
    },
    {
     "data": {
      "application/vnd.microsoft.datawrangler.viewer.v0+json": {
       "columns": [
        {
         "name": "index",
         "rawType": "int64",
         "type": "integer"
        },
        {
         "name": "subject_id",
         "rawType": "int64",
         "type": "integer"
        },
        {
         "name": "hadm_id",
         "rawType": "int64",
         "type": "integer"
        },
        {
         "name": "admittime",
         "rawType": "datetime64[ns]",
         "type": "datetime"
        },
        {
         "name": "dischtime",
         "rawType": "datetime64[ns]",
         "type": "datetime"
        },
        {
         "name": "dod",
         "rawType": "datetime64[ns]",
         "type": "datetime"
        },
        {
         "name": "mortality_30d",
         "rawType": "int64",
         "type": "integer"
        }
       ],
       "ref": "4267fe39-b2e8-49dc-a372-343402fb8615",
       "rows": [
        [
         "302208",
         "16904137",
         "21081215",
         "2105-10-04 17:26:00",
         "2105-10-12 11:11:00",
         null,
         "0"
        ],
        [
         "182344",
         "14178262",
         "24686846",
         "2106-02-06 20:18:00",
         "2106-02-07 09:31:00",
         null,
         "0"
        ],
        [
         "87660",
         "12024697",
         "20302177",
         "2109-12-14 22:50:00",
         "2110-01-15 14:53:00",
         "2111-05-24 00:00:00",
         "0"
        ],
        [
         "233881",
         "15350437",
         "20383396",
         "2110-01-11 08:02:00",
         "2110-01-12 18:45:00",
         null,
         "0"
        ],
        [
         "355528",
         "18106347",
         "24305596",
         "2110-01-11 10:14:00",
         "2110-01-15 17:31:00",
         null,
         "0"
        ]
       ],
       "shape": {
        "columns": 6,
        "rows": 5
       }
      },
      "text/html": [
       "<div>\n",
       "<style scoped>\n",
       "    .dataframe tbody tr th:only-of-type {\n",
       "        vertical-align: middle;\n",
       "    }\n",
       "\n",
       "    .dataframe tbody tr th {\n",
       "        vertical-align: top;\n",
       "    }\n",
       "\n",
       "    .dataframe thead th {\n",
       "        text-align: right;\n",
       "    }\n",
       "</style>\n",
       "<table border=\"1\" class=\"dataframe\">\n",
       "  <thead>\n",
       "    <tr style=\"text-align: right;\">\n",
       "      <th></th>\n",
       "      <th>subject_id</th>\n",
       "      <th>hadm_id</th>\n",
       "      <th>admittime</th>\n",
       "      <th>dischtime</th>\n",
       "      <th>dod</th>\n",
       "      <th>mortality_30d</th>\n",
       "    </tr>\n",
       "  </thead>\n",
       "  <tbody>\n",
       "    <tr>\n",
       "      <th>302208</th>\n",
       "      <td>16904137</td>\n",
       "      <td>21081215</td>\n",
       "      <td>2105-10-04 17:26:00</td>\n",
       "      <td>2105-10-12 11:11:00</td>\n",
       "      <td>NaT</td>\n",
       "      <td>0</td>\n",
       "    </tr>\n",
       "    <tr>\n",
       "      <th>182344</th>\n",
       "      <td>14178262</td>\n",
       "      <td>24686846</td>\n",
       "      <td>2106-02-06 20:18:00</td>\n",
       "      <td>2106-02-07 09:31:00</td>\n",
       "      <td>NaT</td>\n",
       "      <td>0</td>\n",
       "    </tr>\n",
       "    <tr>\n",
       "      <th>87660</th>\n",
       "      <td>12024697</td>\n",
       "      <td>20302177</td>\n",
       "      <td>2109-12-14 22:50:00</td>\n",
       "      <td>2110-01-15 14:53:00</td>\n",
       "      <td>2111-05-24</td>\n",
       "      <td>0</td>\n",
       "    </tr>\n",
       "    <tr>\n",
       "      <th>233881</th>\n",
       "      <td>15350437</td>\n",
       "      <td>20383396</td>\n",
       "      <td>2110-01-11 08:02:00</td>\n",
       "      <td>2110-01-12 18:45:00</td>\n",
       "      <td>NaT</td>\n",
       "      <td>0</td>\n",
       "    </tr>\n",
       "    <tr>\n",
       "      <th>355528</th>\n",
       "      <td>18106347</td>\n",
       "      <td>24305596</td>\n",
       "      <td>2110-01-11 10:14:00</td>\n",
       "      <td>2110-01-15 17:31:00</td>\n",
       "      <td>NaT</td>\n",
       "      <td>0</td>\n",
       "    </tr>\n",
       "  </tbody>\n",
       "</table>\n",
       "</div>"
      ],
      "text/plain": [
       "        subject_id   hadm_id           admittime           dischtime  \\\n",
       "302208    16904137  21081215 2105-10-04 17:26:00 2105-10-12 11:11:00   \n",
       "182344    14178262  24686846 2106-02-06 20:18:00 2106-02-07 09:31:00   \n",
       "87660     12024697  20302177 2109-12-14 22:50:00 2110-01-15 14:53:00   \n",
       "233881    15350437  20383396 2110-01-11 08:02:00 2110-01-12 18:45:00   \n",
       "355528    18106347  24305596 2110-01-11 10:14:00 2110-01-15 17:31:00   \n",
       "\n",
       "              dod  mortality_30d  \n",
       "302208        NaT              0  \n",
       "182344        NaT              0  \n",
       "87660  2111-05-24              0  \n",
       "233881        NaT              0  \n",
       "355528        NaT              0  "
      ]
     },
     "execution_count": 17,
     "metadata": {},
     "output_type": "execute_result"
    }
   ],
   "source": [
    "# Display\n",
    "print(f\"Labeled cohort shape: {df.shape}\")\n",
    "df[['subject_id', 'hadm_id', 'admittime', 'dischtime', 'dod', 'mortality_30d']].head()\n"
   ]
  },
  {
   "cell_type": "code",
   "execution_count": null,
   "id": "51c21fa5",
   "metadata": {},
   "outputs": [],
   "source": []
  },
  {
   "cell_type": "code",
   "execution_count": null,
   "id": "6dd10eed",
   "metadata": {},
   "outputs": [],
   "source": []
  }
 ],
 "metadata": {
  "kernelspec": {
   "display_name": "Python 3",
   "language": "python",
   "name": "python3"
  },
  "language_info": {
   "codemirror_mode": {
    "name": "ipython",
    "version": 3
   },
   "file_extension": ".py",
   "mimetype": "text/x-python",
   "name": "python",
   "nbconvert_exporter": "python",
   "pygments_lexer": "ipython3",
   "version": "3.13.3"
  }
 },
 "nbformat": 4,
 "nbformat_minor": 5
}
