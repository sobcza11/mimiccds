{
 "cells": [
  {
   "cell_type": "code",
   "execution_count": 185,
   "id": "6839df41",
   "metadata": {},
   "outputs": [],
   "source": [
    "# -------------------------------\n",
    "# Full SHAP Summary with Retrained Model\n",
    "# -------------------------------\n",
    "import pandas as pd\n",
    "import shap\n",
    "import joblib\n",
    "import matplotlib.pyplot as plt\n",
    "from sklearn.model_selection import train_test_split\n",
    "from sklearn.ensemble import RandomForestClassifier\n"
   ]
  },
  {
   "cell_type": "code",
   "execution_count": 186,
   "id": "5cef7afc",
   "metadata": {},
   "outputs": [],
   "source": [
    "# -------------------------------\n",
    "# Load data (same dataset you paid for)\n",
    "# -------------------------------\n",
    "df = pd.read_csv(r\"C:\\Users\\Rand Sobczak Jr\\_rts\\mlops\\mimiccds\\real_mimic\\output\\predictions.csv\")\n"
   ]
  },
  {
   "cell_type": "code",
   "execution_count": 187,
   "id": "f1115e75",
   "metadata": {},
   "outputs": [],
   "source": [
    "# -------------------------------\n",
    "# Select features: drop known metadata or targets\n",
    "# -------------------------------\n",
    "drop_cols = ['subject_id', 'y_true', 'y_pred', 'y_pred_proba', 'gender', 'anchor_age', 'race', 'age_group']\n",
    "X = df.drop(columns=[c for c in drop_cols if c in df.columns])\n",
    "y = df['y_true'].astype(int)\n"
   ]
  },
  {
   "cell_type": "code",
   "execution_count": 188,
   "id": "5460db5b",
   "metadata": {},
   "outputs": [],
   "source": [
    "# -------------------------------\n",
    "# One-hot encode if needed\n",
    "# -------------------------------\n",
    "X = pd.get_dummies(X)\n"
   ]
  },
  {
   "cell_type": "code",
   "execution_count": 189,
   "id": "36bb4a5b",
   "metadata": {},
   "outputs": [],
   "source": [
    "# -------------------------------\n",
    "# Split for SHAP (same as training)\n",
    "# -------------------------------\n",
    "X_train, X_test, y_train, y_test = train_test_split(X, y, test_size=0.3, stratify=y, random_state=42)\n"
   ]
  },
  {
   "cell_type": "code",
   "execution_count": 194,
   "id": "36ac21ac",
   "metadata": {},
   "outputs": [
    {
     "name": "stdout",
     "output_type": "stream",
     "text": [
      "X shape: (11168, 14)\n"
     ]
    }
   ],
   "source": [
    "print(\"X shape:\", X.shape)"
   ]
  },
  {
   "cell_type": "code",
   "execution_count": 193,
   "id": "a8b1898c",
   "metadata": {},
   "outputs": [
    {
     "name": "stdout",
     "output_type": "stream",
     "text": [
      "SHAP shape: (14, 2)\n",
      "X_test shape: (3351, 14)\n"
     ]
    },
    {
     "ename": "AssertionError",
     "evalue": "",
     "output_type": "error",
     "traceback": [
      "\u001b[31m---------------------------------------------------------------------------\u001b[39m",
      "\u001b[31mAssertionError\u001b[39m                            Traceback (most recent call last)",
      "\u001b[36mCell\u001b[39m\u001b[36m \u001b[39m\u001b[32mIn[193]\u001b[39m\u001b[32m, line 9\u001b[39m\n\u001b[32m      7\u001b[39m \u001b[38;5;28mprint\u001b[39m(\u001b[33m\"\u001b[39m\u001b[33mSHAP shape:\u001b[39m\u001b[33m\"\u001b[39m, shap_values[\u001b[32m1\u001b[39m].shape)\n\u001b[32m      8\u001b[39m \u001b[38;5;28mprint\u001b[39m(\u001b[33m\"\u001b[39m\u001b[33mX_test shape:\u001b[39m\u001b[33m\"\u001b[39m, X_test.shape)\n\u001b[32m----> \u001b[39m\u001b[32m9\u001b[39m \u001b[38;5;28;01massert\u001b[39;00m shap_values[\u001b[32m1\u001b[39m].shape == X_test.shape\n\u001b[32m     11\u001b[39m shap.summary_plot(shap_values[\u001b[32m1\u001b[39m], X_test, max_display=\u001b[32m15\u001b[39m)\n",
      "\u001b[31mAssertionError\u001b[39m: "
     ]
    }
   ],
   "source": [
    "model = RandomForestClassifier(n_estimators=100, max_depth=10, class_weight='balanced', random_state=42)\n",
    "model.fit(X_train, y_train)\n",
    "\n",
    "explainer = shap.TreeExplainer(model)\n",
    "shap_values = explainer.shap_values(X_test)\n",
    "\n",
    "print(\"SHAP shape:\", shap_values[1].shape)\n",
    "print(\"X_test shape:\", X_test.shape)\n",
    "assert shap_values[1].shape == X_test.shape\n",
    "\n",
    "shap.summary_plot(shap_values[1], X_test, max_display=15)"
   ]
  },
  {
   "cell_type": "code",
   "execution_count": null,
   "id": "c02c0d9e",
   "metadata": {},
   "outputs": [],
   "source": []
  },
  {
   "cell_type": "code",
   "execution_count": null,
   "id": "4877affd",
   "metadata": {},
   "outputs": [],
   "source": []
  },
  {
   "cell_type": "code",
   "execution_count": null,
   "id": "515f2410",
   "metadata": {},
   "outputs": [],
   "source": []
  },
  {
   "cell_type": "code",
   "execution_count": null,
   "id": "73c6e0a5",
   "metadata": {},
   "outputs": [],
   "source": []
  },
  {
   "cell_type": "code",
   "execution_count": null,
   "metadata": {},
   "outputs": [],
   "source": []
  },
  {
   "cell_type": "code",
   "execution_count": null,
   "metadata": {},
   "outputs": [],
   "source": []
  },
  {
   "cell_type": "code",
   "execution_count": null,
   "id": "3c6ae876",
   "metadata": {},
   "outputs": [],
   "source": []
  },
  {
   "cell_type": "code",
   "execution_count": null,
   "metadata": {},
   "outputs": [],
   "source": []
  }
 ],
 "metadata": {
  "kernelspec": {
   "display_name": "Python 3",
   "language": "python",
   "name": "python3"
  },
  "language_info": {
   "codemirror_mode": {
    "name": "ipython",
    "version": 3
   },
   "file_extension": ".py",
   "mimetype": "text/x-python",
   "name": "python",
   "nbconvert_exporter": "python",
   "pygments_lexer": "ipython3",
   "version": "3.13.3"
  }
 },
 "nbformat": 4,
 "nbformat_minor": 5
}
