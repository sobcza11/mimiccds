{
 "cells": [
  {
   "cell_type": "markdown",
   "id": "5aac1494",
   "metadata": {},
   "source": [
    "Why: These functions are foundational for every other notebook (e.g. training, SHAP, FHIR export). Mock data is sufficient to write, test, and refine these logic blocks."
   ]
  },
  {
   "cell_type": "code",
   "execution_count": 1,
   "id": "d75902ba",
   "metadata": {},
   "outputs": [],
   "source": [
    "import pandas as pd\n",
    "from datetime import datetime, timedelta"
   ]
  },
  {
   "cell_type": "markdown",
   "id": "283253ea",
   "metadata": {},
   "source": [
    "**Mock Data**"
   ]
  },
  {
   "cell_type": "code",
   "execution_count": null,
   "id": "f94723fe",
   "metadata": {},
   "outputs": [],
   "source": [
    "# admissions.csv mock\n",
    "admissions_df = pd.DataFrame({\n",
    "    'subject_id': [1001, 1002, 1003, 1004],\n",
    "    'hadm_id': [2001, 2002, 2003, 2004],\n",
    "    'admittime': pd.to_datetime(['2100-01-01', '2100-01-05', '2100-02-10', '2100-02-15']),\n",
    "    'dischtime': pd.to_datetime(['2100-01-10', '2100-01-07', '2100-02-12', '2100-02-20']),\n",
    "    'deathtime': [pd.NaT, pd.to_datetime('2100-01-08'), pd.to_datetime('2100-02-20'), pd.NaT]\n",
    "})\n",
    "\n",
    "# patients.csv mock\n",
    "patients_df = pd.DataFrame({\n",
    "    'subject_id': [1001, 1002, 1003, 1004],\n",
    "    'gender': ['M', 'F', 'M', 'F'],\n",
    "    'anchor_age': [65, 74, 55, 80],\n",
    "    'dod': [pd.NaT, pd.to_datetime('2100-01-08'), pd.to_datetime('2100-02-20'), pd.to_datetime('2100-03-01')]\n",
    "})\n"
   ]
  },
  {
   "cell_type": "markdown",
   "id": "b27620a6",
   "metadata": {},
   "source": [
    "**Cohort Filtering + Labeling**"
   ]
  },
  {
   "cell_type": "code",
   "execution_count": 3,
   "id": "ea0f0c95",
   "metadata": {},
   "outputs": [
    {
     "data": {
      "application/vnd.microsoft.datawrangler.viewer.v0+json": {
       "columns": [
        {
         "name": "index",
         "rawType": "int64",
         "type": "integer"
        },
        {
         "name": "subject_id",
         "rawType": "int64",
         "type": "integer"
        },
        {
         "name": "hadm_id",
         "rawType": "int64",
         "type": "integer"
        },
        {
         "name": "admittime",
         "rawType": "datetime64[ns]",
         "type": "datetime"
        },
        {
         "name": "dischtime",
         "rawType": "datetime64[ns]",
         "type": "datetime"
        },
        {
         "name": "dod",
         "rawType": "datetime64[ns]",
         "type": "datetime"
        },
        {
         "name": "mortality_30d",
         "rawType": "int32",
         "type": "integer"
        }
       ],
       "ref": "a76ceb60-e6e2-4d0c-ac95-5f64ef137a45",
       "rows": [
        [
         "0",
         "1001",
         "2001",
         "2100-01-01 00:00:00",
         "2100-01-10 00:00:00",
         null,
         "0"
        ],
        [
         "1",
         "1002",
         "2002",
         "2100-01-05 00:00:00",
         "2100-01-07 00:00:00",
         "2100-01-08 00:00:00",
         "1"
        ],
        [
         "2",
         "1003",
         "2003",
         "2100-02-10 00:00:00",
         "2100-02-12 00:00:00",
         "2100-02-20 00:00:00",
         "1"
        ],
        [
         "3",
         "1004",
         "2004",
         "2100-02-15 00:00:00",
         "2100-02-20 00:00:00",
         "2100-03-01 00:00:00",
         "1"
        ]
       ],
       "shape": {
        "columns": 6,
        "rows": 4
       }
      },
      "text/html": [
       "<div>\n",
       "<style scoped>\n",
       "    .dataframe tbody tr th:only-of-type {\n",
       "        vertical-align: middle;\n",
       "    }\n",
       "\n",
       "    .dataframe tbody tr th {\n",
       "        vertical-align: top;\n",
       "    }\n",
       "\n",
       "    .dataframe thead th {\n",
       "        text-align: right;\n",
       "    }\n",
       "</style>\n",
       "<table border=\"1\" class=\"dataframe\">\n",
       "  <thead>\n",
       "    <tr style=\"text-align: right;\">\n",
       "      <th></th>\n",
       "      <th>subject_id</th>\n",
       "      <th>hadm_id</th>\n",
       "      <th>admittime</th>\n",
       "      <th>dischtime</th>\n",
       "      <th>dod</th>\n",
       "      <th>mortality_30d</th>\n",
       "    </tr>\n",
       "  </thead>\n",
       "  <tbody>\n",
       "    <tr>\n",
       "      <th>0</th>\n",
       "      <td>1001</td>\n",
       "      <td>2001</td>\n",
       "      <td>2100-01-01</td>\n",
       "      <td>2100-01-10</td>\n",
       "      <td>NaT</td>\n",
       "      <td>0</td>\n",
       "    </tr>\n",
       "    <tr>\n",
       "      <th>1</th>\n",
       "      <td>1002</td>\n",
       "      <td>2002</td>\n",
       "      <td>2100-01-05</td>\n",
       "      <td>2100-01-07</td>\n",
       "      <td>2100-01-08</td>\n",
       "      <td>1</td>\n",
       "    </tr>\n",
       "    <tr>\n",
       "      <th>2</th>\n",
       "      <td>1003</td>\n",
       "      <td>2003</td>\n",
       "      <td>2100-02-10</td>\n",
       "      <td>2100-02-12</td>\n",
       "      <td>2100-02-20</td>\n",
       "      <td>1</td>\n",
       "    </tr>\n",
       "    <tr>\n",
       "      <th>3</th>\n",
       "      <td>1004</td>\n",
       "      <td>2004</td>\n",
       "      <td>2100-02-15</td>\n",
       "      <td>2100-02-20</td>\n",
       "      <td>2100-03-01</td>\n",
       "      <td>1</td>\n",
       "    </tr>\n",
       "  </tbody>\n",
       "</table>\n",
       "</div>"
      ],
      "text/plain": [
       "   subject_id  hadm_id  admittime  dischtime        dod  mortality_30d\n",
       "0        1001     2001 2100-01-01 2100-01-10        NaT              0\n",
       "1        1002     2002 2100-01-05 2100-01-07 2100-01-08              1\n",
       "2        1003     2003 2100-02-10 2100-02-12 2100-02-20              1\n",
       "3        1004     2004 2100-02-15 2100-02-20 2100-03-01              1"
      ]
     },
     "metadata": {},
     "output_type": "display_data"
    }
   ],
   "source": [
    "# Merge patient + admission info\n",
    "merged_df = admissions_df.merge(patients_df, on='subject_id', how='left')\n",
    "\n",
    "# Define mortality label: death within 30 days of discharge\n",
    "merged_df['mortality_30d'] = (\n",
    "    (merged_df['dod'].notna()) &\n",
    "    ((merged_df['dod'] - merged_df['dischtime']).dt.days <= 30) &\n",
    "    ((merged_df['dod'] - merged_df['dischtime']).dt.days >= 0)\n",
    ").astype(int)\n",
    "\n",
    "# Optional: Filter for index admissions (e.g., only first per patient)\n",
    "merged_df.sort_values(by='admittime', inplace=True)\n",
    "merged_df = merged_df.drop_duplicates(subset='subject_id', keep='first')\n",
    "\n",
    "# ---- Display Result ----\n",
    "import IPython.display as disp\n",
    "disp.display(merged_df[['subject_id', 'hadm_id', 'admittime', 'dischtime', 'dod', 'mortality_30d']])\n"
   ]
  },
  {
   "cell_type": "code",
   "execution_count": null,
   "id": "0fe37318",
   "metadata": {},
   "outputs": [],
   "source": []
  }
 ],
 "metadata": {
  "kernelspec": {
   "display_name": "Python 3",
   "language": "python",
   "name": "python3"
  },
  "language_info": {
   "codemirror_mode": {
    "name": "ipython",
    "version": 3
   },
   "file_extension": ".py",
   "mimetype": "text/x-python",
   "name": "python",
   "nbconvert_exporter": "python",
   "pygments_lexer": "ipython3",
   "version": "3.10.10"
  }
 },
 "nbformat": 4,
 "nbformat_minor": 5
}
